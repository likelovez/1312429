{
 "cells": [
  {
   "cell_type": "markdown",
   "metadata": {
    "nbpresent": {
     "id": "108f11a3-d77e-4848-95c9-2b5824387d71"
    }
   },
   "source": [
    "# MÁY HỌC"
   ]
  },
  {
   "cell_type": "markdown",
   "metadata": {
    "nbpresent": {
     "id": "d4949d26-cef5-49f1-927a-bd3f3d61a8d0"
    }
   },
   "source": [
    "# Bài tập 2\n",
    "\n",
    "#### Họ và tên: NGUYỄN XUÂN BÌNH\n",
    "\n",
    "#### MSSV: 1412050\n",
    "\n",
    "---"
   ]
  },
  {
   "cell_type": "markdown",
   "metadata": {},
   "source": [
    "## Câu 1: [b] 0.01"
   ]
  },
  {
   "cell_type": "code",
   "execution_count": 1,
   "metadata": {
    "collapsed": true
   },
   "outputs": [],
   "source": [
    "import numpy as np"
   ]
  },
  {
   "cell_type": "code",
   "execution_count": 2,
   "metadata": {
    "collapsed": true
   },
   "outputs": [],
   "source": [
    "experiment_times = 100000"
   ]
  },
  {
   "cell_type": "code",
   "execution_count": 3,
   "metadata": {
    "collapsed": true
   },
   "outputs": [],
   "source": [
    "def Run_HI(N):\n",
    "    v1,vrand,vmin = 0, 0, 0\n",
    "    for _ in range(N):\n",
    "        # heads = 1\n",
    "        data = np.random.randint(0,2,(1000,10))\n",
    "        cmin = min(data.sum(axis = 1)) #Tìm lần tung có ít mặt ngửa nhất\n",
    "        v1 += sum(data[0])/10.0 #Tính tổng xác suất các lần tung đầu\n",
    "        vrand += sum(data[np.random.randint(0, 1000)])/10.0 #Tính tổng xác suất các lần tung chọn ngẫu nhiên\n",
    "        vmin += cmin/10.0 #Tính tổng xác suất lần tung ít mặt ngửa nhất\n",
    "    print \"The average of v1: %f\"%(v1/N)\n",
    "    print \"The average of vrand: %f\"%(vrand/N)\n",
    "    print \"The average of vmin: %f\"%(vmin/N)"
   ]
  },
  {
   "cell_type": "code",
   "execution_count": 4,
   "metadata": {
    "collapsed": false
   },
   "outputs": [
    {
     "name": "stdout",
     "output_type": "stream",
     "text": [
      "The average of v1: 0.500607\n",
      "The average of vrand: 0.499605\n",
      "The average of vmin: 0.037239\n"
     ]
    }
   ],
   "source": [
    "Run_HI(experiment_times)"
   ]
  },
  {
   "cell_type": "markdown",
   "metadata": {},
   "source": [
    "##### Ta thấy, giá trị trung trình của vmin xấp xỉ 0.01. Do đó: ta chọn đáp án [b]. 0.01"
   ]
  },
  {
   "cell_type": "markdown",
   "metadata": {},
   "source": [
    "## Câu 2: [d] c1 and crand"
   ]
  },
  {
   "cell_type": "markdown",
   "metadata": {},
   "source": [
    "Giải thích: Trong 3 đồng xu được lựa chọn để xem xét thì chỉ có 2 loại đồng xu là c1 và crand là độc lập. Vì:\n",
    "    + Việc lựa chọn mặt xấp hay mặt ngửa ở mỗi đầu xu là độc lập\n",
    "    + Việc lựa chọn thảy 1 đồng xu 10 lần, mỗi lần thảy là độc lập nhau\n",
    "    + Việc lựa chọn 1 đồng xu trong 1000 đồng xu là độc lập\n",
    "    + Với c1: trong mỗi lần \"from run to run\", giá trị của đồng xu đầu tiên luôn thay đổi mà không phụ thuộc vào bất cứ đồng xu nào khác\n",
    "    + Với crand: chọn ngẫu nhiên một đồng xu, điều này tương ứng với việc không bị phụ thuộc vào đồng xu nào khác.\n",
    "Hơn thế nữa, nếu nhìn vào output xuất hiện ở phía trên ta thấy rằng:\n",
    "    + Trung bình của v1 xấp xỉ 0.5\n",
    "    + Trung bình của vrand xấp xỉ 0.5\n",
    "##### Vậy: c1 và crand là các biến cố độc lập phân bố theo bất đẳng thức Hoeffding\n",
    "- [a]: c1 only -> sai\n",
    "- [b]: crand only -> sai\n",
    "- [c]: cmin only -> sai\n",
    "- [d]: c1 and crand -> đúng\n",
    "- [e]: cmin and crand -> sai\n",
    "##### Do đó, đáp án đúng là: [d]: c1 and crand"
   ]
  },
  {
   "cell_type": "markdown",
   "metadata": {},
   "source": [
    "## Câu 3: [d] $(1 - \\Lambda) * \\mu + \\Lambda * (1 - \\mu)$"
   ]
  },
  {
   "cell_type": "markdown",
   "metadata": {},
   "source": [
    "Giải thích:\n",
    "Theo như đề bài ta có:\n",
    "+ Xác suất lỗi của một giả thuyết $h$ là $\\mu$\n",
    "\n",
    "$\\implies ( 1 - \\mu )$ là xác suất trong trường hợp không xảy ra lỗi.\n",
    "\n",
    "+ Mà theo như hàm phân phối xác suất trong đề bài:\n",
    "    + $P(y | x) = \\lambda$ trong trường hợp $y = f(x)$. Đây là trường hợp không xảy ra nhiễu.\n",
    "    + $P(y | x) = 1 - \\lambda$ trong trường hợp $y != f(x)$. Đây là trường hợp xảy ra nhiễu\n",
    "+ Từ đó ta tính được xác suất lỗi của giả thuyết $h$ trong việc xấp xỉ hàm kết quả $y$ là: $(1 - \\Lambda) * \\mu + \\Lambda * (1 - \\mu)$\n",
    "###### Do đó, đáp án đúng là: [d]: $(1 - \\Lambda) * \\mu + \\Lambda * (1 - \\mu)$"
   ]
  },
  {
   "cell_type": "markdown",
   "metadata": {},
   "source": [
    "## Câu 4: [b] 0.5"
   ]
  },
  {
   "cell_type": "markdown",
   "metadata": {},
   "source": [
    "Giải thích:\n",
    "\n",
    "Ta có:\n",
    "$(1 - \\Lambda) * \\mu + \\Lambda * (1 - \\mu)$\n",
    "            \n",
    "$= \\mu - \\Lambda * \\mu + \\Lambda - \\Lambda * \\mu$\n",
    "            \n",
    "$= (-2\\lambda + 1)*\\mu + \\lambda$\n",
    "    \n",
    "Để $h$ không còn phụ thuộc vào xác suất lỗi $\\mu$ thì:\n",
    "\n",
    "$(-2\\Lambda + 1) = 0$\n",
    "$\\iff \\Lambda = 0.5 $\n",
    "\n",
    "###### Do đó, đáp án đúng là [b]: 0.5"
   ]
  },
  {
   "cell_type": "markdown",
   "metadata": {},
   "source": [
    "## 5-7."
   ]
  },
  {
   "cell_type": "markdown",
   "metadata": {},
   "source": [
    "### Import các thư viện cần thiết"
   ]
  },
  {
   "cell_type": "code",
   "execution_count": 5,
   "metadata": {
    "collapsed": true
   },
   "outputs": [],
   "source": [
    "import numpy as np"
   ]
  },
  {
   "cell_type": "markdown",
   "metadata": {},
   "source": [
    "### Định nghĩa các hàm"
   ]
  },
  {
   "cell_type": "markdown",
   "metadata": {},
   "source": [
    "Hàm phát sinh ra `target_w`, véc-tơ tham số của $f$"
   ]
  },
  {
   "cell_type": "code",
   "execution_count": 6,
   "metadata": {
    "collapsed": true
   },
   "outputs": [],
   "source": [
    "def generate_target_w():\n",
    "    \"\"\"\n",
    "    Generates target_w from two random, uniformly distributed points in [-1, 1] x [-1, 1].\n",
    "    \n",
    "    Returns\n",
    "    -------\n",
    "    target_w : numpy array, shape (3, 1) \n",
    "        The vector of parameters of f.\n",
    "    \"\"\"\n",
    "    # Generate two points from a uniform distribution over [-1, 1]x[-1, 1]\n",
    "    p1 = np.random.uniform(-1,1,2)\n",
    "    p2 = np.random.uniform(-1, 1, 2)\n",
    "    # Compute the target W from these two points\n",
    "    target_w = np.array([p1[1] * p2[0] - p1[0] * p2[1], p2[1] - p1[1], p1[0] - p2[0]]).reshape((-1, 1))\n",
    "    \n",
    "    return target_w"
   ]
  },
  {
   "cell_type": "markdown",
   "metadata": {},
   "source": [
    "Hàm phát sinh ra tập dữ liệu"
   ]
  },
  {
   "cell_type": "code",
   "execution_count": 7,
   "metadata": {
    "collapsed": true
   },
   "outputs": [],
   "source": [
    "def generate_data(N, target_w):\n",
    "    \"\"\"\n",
    "    Generates a data set by generating random inputs and then using target_w to generate the \n",
    "    corresponding outputs.\n",
    "    \n",
    "    Parameters\n",
    "    ----------\n",
    "    N : int\n",
    "        The number of examples.\n",
    "    target_w : numpy array, shape (3, 1) \n",
    "        The vector of parameters of f.\n",
    "    \n",
    "    Returns\n",
    "    -------\n",
    "    X : numpy array, shape (N, 3)\n",
    "        The matrix of input vectors (each row corresponds to an input vector); the first column of \n",
    "        this matrix is all ones.\n",
    "    Y : numpy array, shape (N, 1)\n",
    "        The vector of outputs.        \n",
    "    \"\"\"\n",
    "    X = np.random.uniform(-1, 1, (N,2))\n",
    "    X = np.hstack((np.ones((N,1)),X))\n",
    "    Y = np.dot(X,target_w)\n",
    "    return X,Y"
   ]
  },
  {
   "cell_type": "markdown",
   "metadata": {},
   "source": [
    "Hàm chạy Linear Regression"
   ]
  },
  {
   "cell_type": "code",
   "execution_count": 8,
   "metadata": {
    "collapsed": true
   },
   "outputs": [],
   "source": [
    "def Run_LR(X, Y):\n",
    "    \"\"\"\n",
    "    Runs LR.\n",
    "    \n",
    "    Parameters\n",
    "    ----------\n",
    "    X : numpy array, shape (N, 3)\n",
    "        The matrix of input vectors (each row corresponds to an input vector); the first column of \n",
    "        this matrix is all ones.\n",
    "    Y : numpy array, shape (N, 1)\n",
    "        The vector of outputs.\n",
    "    \n",
    "    Returns\n",
    "    -------\n",
    "    w : numpy array, shape (3, 1) \n",
    "        The vector of parameters of g.\n",
    "    \"\"\"\n",
    "    XT = np.matrix(X).T  \n",
    "    T = np.matrix.dot(XT,X)\n",
    "    w = np.matrix.dot(np.matrix.dot(np.linalg.inv(T),XT),Y)\n",
    "    w = np.array(w)\n",
    "    return w"
   ]
  },
  {
   "cell_type": "markdown",
   "metadata": {},
   "source": [
    "Hàm main"
   ]
  },
  {
   "cell_type": "code",
   "execution_count": 9,
   "metadata": {
    "collapsed": true
   },
   "outputs": [],
   "source": [
    "def main(N):\n",
    "    \"\"\"\n",
    "    Parameters\n",
    "    ----------\n",
    "    N : int\n",
    "        The number of training examples.\n",
    "    \"\"\"\n",
    "    Num_runs = 1000\n",
    "    avg_err_IN = 0\n",
    "    avg_err_OUT = 0\n",
    "    for i in range(Num_runs):\n",
    "        target_w = generate_target_w()\n",
    "        X, Y = generate_data(N,target_w)\n",
    "        w = Run_LR(X,Y)\n",
    "\n",
    "        #test: in_sample\n",
    "        Y_IN = np.matrix.dot(X, w)\n",
    "        test_err_IN = np.mean(Y_IN - Y > 0.0000000000000005)\n",
    "\n",
    "        #test: out_sample\n",
    "        X_test, Y_test = generate_data(1000, target_w)\n",
    "        Y_OUT = np.matrix.dot(X_test, w)\n",
    "        test_err_OUT = np.sum(Y_OUT - Y_test > 0.0000000000000005)\n",
    "\n",
    "        avg_err_IN += (test_err_IN*1.0 / Num_runs)\n",
    "        avg_err_OUT += ((test_err_OUT/1000.0) / Num_runs)\n",
    "    print 'Cau 5: avg_test_err_in_sample = %f' % (avg_err_IN)\n",
    "    print 'Cau 6: avg_test_err_out_sample = %f' % (avg_err_OUT)\n",
    "    return"
   ]
  },
  {
   "cell_type": "markdown",
   "metadata": {},
   "source": [
    "### Chạy"
   ]
  },
  {
   "cell_type": "code",
   "execution_count": 10,
   "metadata": {
    "collapsed": false
   },
   "outputs": [
    {
     "name": "stdout",
     "output_type": "stream",
     "text": [
      "Cau 5: avg_test_err_in_sample = 0.010380\n",
      "Cau 6: avg_test_err_out_sample = 0.011390\n"
     ]
    }
   ],
   "source": [
    "main(N=100)"
   ]
  },
  {
   "cell_type": "markdown",
   "metadata": {},
   "source": [
    "## Câu 5: ta thấy kết quả gần với đáp án [c]: 0.01"
   ]
  },
  {
   "cell_type": "markdown",
   "metadata": {},
   "source": [
    "## Câu 6: ta thấy kết quả gần với đáp án [c]: 0.01"
   ]
  },
  {
   "cell_type": "markdown",
   "metadata": {},
   "source": [
    "###### Hàm chạy PLA với 3 đối số"
   ]
  },
  {
   "cell_type": "code",
   "execution_count": 11,
   "metadata": {
    "collapsed": true
   },
   "outputs": [],
   "source": [
    "def run_PLA(w_init, X, Y):\n",
    "    \"\"\"\n",
    "    Runs PLA.\n",
    "    \n",
    "    Parameters\n",
    "    ----------\n",
    "    w_init: from Run_RL(X,Y)\n",
    "    X : numpy array, shape (N, 3)\n",
    "        The matrix of input vectors (each row corresponds to an input vector); the first column of \n",
    "        this matrix is all ones.\n",
    "    Y : numpy array, shape (N, 1)\n",
    "        The vector of outputs.\n",
    "    \n",
    "    Returns\n",
    "    -------\n",
    "    num_iterations : int\n",
    "        The number of iterations PLA takes to converge.\n",
    "    \"\"\"\n",
    "    w = w_init\n",
    "    iteration = 0\n",
    "    \n",
    "    #TODO\n",
    "    # Khởi tạo hàm giả thuyết h kết quả và các điểm đã được phân lớp ( bool )\n",
    "    h_result = np.sign(np.dot(X, w))\n",
    "    classified_points = (h_result == Y)\n",
    "    \n",
    "    # Kiếm tra hàm giả thuyết h có bằng với hàm output Y chưa?\n",
    "    while not np.array_equal(h_result, Y):\n",
    "        iteration += 1 #Tăng số vòng lặp lên 1 đơn vị\n",
    "        while (True): #Vòng lặp chọn ngẫu nhiên một điểm chưa được phân lớp, thay thế và tính lại giá trị w\n",
    "            random_point = np.random.randint(0, high = int(h_result.shape[0])) #chọn một điểm ngẫu nhiên\n",
    "            if (classified_points[random_point] == False): #kiểm tra điểm đó đã phân lớp chưa? Nếu chưa thì thực hiện\n",
    "                temp = Y[random_point]*X[random_point]\n",
    "                temp = np.reshape(temp,(3,1))\n",
    "                w += temp\n",
    "                break\n",
    "        h_result = np.sign(np.dot(X, w)) #Cập nhật lại hàm giả thuyết h\n",
    "        classified_points = (h_result == Y) #Cập nhập lại các điểm đã phân lớp\n",
    "                \n",
    "    return iteration"
   ]
  },
  {
   "cell_type": "markdown",
   "metadata": {},
   "source": [
    "###### Hàm main cho câu 7"
   ]
  },
  {
   "cell_type": "code",
   "execution_count": 12,
   "metadata": {
    "collapsed": true
   },
   "outputs": [],
   "source": [
    "def mainc7(N):\n",
    "    \"\"\"\n",
    "    Parameters\n",
    "    ----------\n",
    "    N : int\n",
    "        The number of training examples.\n",
    "    \"\"\"\n",
    "    num_runs = 1000\n",
    "    avg_num_iterations = 0.0 # The average number of iterations PLA takes to converge\n",
    "    \n",
    "    for r in xrange(num_runs):\n",
    "        # Generate target_w\n",
    "        target_w = generate_target_w()\n",
    "        \n",
    "        # Generate training set\n",
    "        X, Y = generate_data(N, target_w)\n",
    "        \n",
    "        #run_RL\n",
    "        w_init = Run_LR(X,Y)\n",
    "\n",
    "        # Run PLA to pick g\n",
    "        num_iterations = run_PLA(w_init, X, np.sign(Y))\n",
    "        \n",
    "        # Update average values\n",
    "        avg_num_iterations += (num_iterations * 1.0 / num_runs)\n",
    "    \n",
    "    # Print results\n",
    "    print 'avg_num_iterations = %f' % (avg_num_iterations)\n",
    "    return"
   ]
  },
  {
   "cell_type": "code",
   "execution_count": 13,
   "metadata": {
    "collapsed": false
   },
   "outputs": [
    {
     "name": "stdout",
     "output_type": "stream",
     "text": [
      "avg_num_iterations = 0.000000\n"
     ]
    }
   ],
   "source": [
    "mainc7(10)"
   ]
  },
  {
   "cell_type": "markdown",
   "metadata": {},
   "source": [
    "## Câu 7: ta thấy kết quả gần với đáp án [a]: 1"
   ]
  },
  {
   "cell_type": "markdown",
   "metadata": {},
   "source": [
    "## 8-10"
   ]
  },
  {
   "cell_type": "markdown",
   "metadata": {},
   "source": [
    "##### Hàm tạo dữ liệu cho câu 8 từ function"
   ]
  },
  {
   "cell_type": "code",
   "execution_count": 14,
   "metadata": {
    "collapsed": true
   },
   "outputs": [],
   "source": [
    "def generate_data_to_function(N):\n",
    "    \"\"\"\n",
    "    Parameters\n",
    "    ----------\n",
    "    N : int\n",
    "        The number of training examples.\n",
    "    ----------\n",
    "    Return:\n",
    "    X : input data. Shape(N, 3)\n",
    "    Y : output data. Shape(N, 1)\n",
    "    \"\"\"\n",
    "    X = np.random.uniform(-1, 1, (N,2))\n",
    "    X = np.hstack((np.ones((N,1)),X))\n",
    "    Y = [[np.sign(X[i][1]**2 + X[i][2]**2 - 0.6)] for i in range(N)]\n",
    "    return X, np.array(Y).reshape(N,1)"
   ]
  },
  {
   "cell_type": "markdown",
   "metadata": {},
   "source": [
    "##### Hàm làm nhiễu 10% dữ liệu input"
   ]
  },
  {
   "cell_type": "code",
   "execution_count": 15,
   "metadata": {
    "collapsed": true
   },
   "outputs": [],
   "source": [
    "def generate_noise_data(Y):\n",
    "    \"\"\"\n",
    "    Parameters\n",
    "    ----------\n",
    "    Y : output data original.\n",
    "        Shape(N, 1)\n",
    "    Return:\n",
    "    Y : output data is noised 10%\n",
    "        Shape(N, 1)\n",
    "    \"\"\"\n",
    "    Y_Noise = np.copy(Y)\n",
    "    for i in np.random.choice(range(Y_Noise.shape[0]),int(Y_Noise.shape[0]*0.1),False):\n",
    "        Y_Noise[i] = -Y_Noise[i]\n",
    "    return Y_Noise"
   ]
  },
  {
   "cell_type": "markdown",
   "metadata": {},
   "source": [
    "##### Định nghĩa hàm main cho câu 8: sử dụng Linear Regression để tìm w"
   ]
  },
  {
   "cell_type": "code",
   "execution_count": 16,
   "metadata": {
    "collapsed": true
   },
   "outputs": [],
   "source": [
    "def mainc8(N):\n",
    "    \"\"\"\n",
    "    Parameters\n",
    "    ----------\n",
    "    N : int\n",
    "        The number of training examples.\n",
    "    \"\"\"\n",
    "    num_runs = 1000\n",
    "    avg_err = 0\n",
    "    for i in range(num_runs):\n",
    "        X, Y = generate_data_to_function(N) #Tạo dữ liệu\n",
    "        Y_Noise = generate_noise_data(Y) #Gây nhiễu output\n",
    "        w = Run_LR(X, Y_Noise) #Chạy Linear Regression\n",
    "        Y_test = np.sign(np.matrix.dot(X,w)) #Tạo dữ liệu test để tìm Ein\n",
    "        err = np.mean(Y_test != Y) #So sánh trong mỗi lần chạy\n",
    "        avg_err += (err*1.0/num_runs) #Tính lỗi trung bình\n",
    "    print \"Cau 8: avg_test_err: %f\"%(avg_err)\n",
    "    return"
   ]
  },
  {
   "cell_type": "markdown",
   "metadata": {},
   "source": [
    "##### Chạy"
   ]
  },
  {
   "cell_type": "code",
   "execution_count": 17,
   "metadata": {
    "collapsed": false
   },
   "outputs": [
    {
     "name": "stdout",
     "output_type": "stream",
     "text": [
      "Cau 8: avg_test_err: 0.511271\n"
     ]
    }
   ],
   "source": [
    "mainc8(N=1000)"
   ]
  },
  {
   "cell_type": "markdown",
   "metadata": {},
   "source": [
    "## Câu 8: ta thấy kết quả gần với đáp án [d]: 0.5"
   ]
  },
  {
   "cell_type": "markdown",
   "metadata": {},
   "source": [
    "##### Hàm tạo dữ liệu feature transform:"
   ]
  },
  {
   "cell_type": "code",
   "execution_count": 18,
   "metadata": {
    "collapsed": true
   },
   "outputs": [],
   "source": [
    "def generate_data_feature_transform(N):\n",
    "    \"\"\"\n",
    "    Parameters\n",
    "    ----------\n",
    "    N : int\n",
    "        The number of training examples.\n",
    "    ----------\n",
    "    Return:\n",
    "    X : input data\n",
    "        - Feature transform\n",
    "        Shape(N, 6)\n",
    "    Y : output data. Shape(N, 1)\n",
    "    \"\"\"\n",
    "    X = np.random.uniform(-1, 1, (N,2))\n",
    "    X = np.hstack((np.ones((N,1)),X))\n",
    "    X = np.hstack((X,(X[:,1]*X[:,2]).reshape(N,1)))\n",
    "    X = np.hstack((X,(X[:,1]**2).reshape(N,1)))\n",
    "    X = np.hstack((X,(X[:,2]**2).reshape(N,1)))\n",
    "\n",
    "    Y2 = np.array(np.sign([X[:,1]**2 + X[:,2]**2 - 0.6])).reshape(N,1)\n",
    "    return X, Y2"
   ]
  },
  {
   "cell_type": "markdown",
   "metadata": {},
   "source": [
    "##### Hàm main cho câu 9 và câu 10"
   ]
  },
  {
   "cell_type": "code",
   "execution_count": 19,
   "metadata": {
    "collapsed": true
   },
   "outputs": [],
   "source": [
    "def mainc9(N):\n",
    "    \"\"\"\n",
    "    Parameters\n",
    "    ----------\n",
    "    N : int\n",
    "        The number of training examples.\n",
    "    \"\"\"\n",
    "    num_runs = 1000\n",
    "    avg_err = 0\n",
    "    # Câu 9: N = 1000\n",
    "    X, Y = generate_data_feature_transform(1000)\n",
    "    Y_Noise = generate_noise_data(Y)\n",
    "    w = Run_LR(X, Y_Noise)\n",
    "    print \"Cau 9: w la:\\n\", w\n",
    "    # Câu 10: Tìm Eout\n",
    "    for i in range(num_runs):\n",
    "        X, Y = generate_data_feature_transform(N)\n",
    "        Y_Noise = generate_noise_data(Y)\n",
    "        w = Run_LR(X, Y_Noise)\n",
    "        \n",
    "        # Tạo và kiểm tra độ lỗi trong mỗi lần chạy\n",
    "        X_Test, Y_Test = generate_data_feature_transform(N)\n",
    "        Y_Test = generate_noise_data(Y_Test)\n",
    "        Y_OUT = np.sign(np.matrix.dot(X_Test,w))\n",
    "        err = np.mean(Y_OUT != Y_Test)\n",
    "        avg_err += (err*1.0/num_runs) #Tính trung bình độ lỗi\n",
    "    print \"Cau 10: avg_test_err: %f\"%(avg_err)\n",
    "    return"
   ]
  },
  {
   "cell_type": "markdown",
   "metadata": {},
   "source": [
    "##### Chạy"
   ]
  },
  {
   "cell_type": "code",
   "execution_count": 27,
   "metadata": {
    "collapsed": false
   },
   "outputs": [
    {
     "name": "stdout",
     "output_type": "stream",
     "text": [
      "Cau 9: w la:\n",
      "[[-0.95005838]\n",
      " [-0.00740198]\n",
      " [ 0.00412686]\n",
      " [-0.00748889]\n",
      " [ 1.51894433]\n",
      " [ 1.56858573]]\n",
      "Cau 10: avg_test_err: 0.126721\n"
     ]
    }
   ],
   "source": [
    "mainc9(N=1000)"
   ]
  },
  {
   "cell_type": "markdown",
   "metadata": {},
   "source": [
    "## Câu 9: ta thấy kết quả gần với đáp án [a]: $g(x_{1}, x_{2}) = sign(-1 - 0.05x_{1} + 0.08x_{2} + 0.13x_{1}x_{2} + 1.5x_{1}^{2} + 1.5x_{2}^{2})$"
   ]
  },
  {
   "cell_type": "markdown",
   "metadata": {},
   "source": [
    "## Câu 10: ta thấy kết quả gần với đán án [b]: 0.1"
   ]
  }
 ],
 "metadata": {
  "anaconda-cloud": {},
  "kernelspec": {
   "display_name": "Python [Root]",
   "language": "python",
   "name": "Python [Root]"
  },
  "language_info": {
   "codemirror_mode": {
    "name": "ipython",
    "version": 2
   },
   "file_extension": ".py",
   "mimetype": "text/x-python",
   "name": "python",
   "nbconvert_exporter": "python",
   "pygments_lexer": "ipython2",
   "version": "2.7.12"
  },
  "nbpresent": {
   "slides": {},
   "themes": {
    "default": "08feaae5-a723-446d-891c-8edee574b8fb",
    "theme": {}
   }
  }
 },
 "nbformat": 4,
 "nbformat_minor": 0
}
