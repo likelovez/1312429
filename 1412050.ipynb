{
 "cells": [
  {
   "cell_type": "markdown",
   "metadata": {
    "nbpresent": {
     "id": "108f11a3-d77e-4848-95c9-2b5824387d71"
    }
   },
   "source": [
    "# MÁY HỌC"
   ]
  },
  {
   "cell_type": "markdown",
   "metadata": {
    "nbpresent": {
     "id": "d4949d26-cef5-49f1-927a-bd3f3d61a8d0"
    }
   },
   "source": [
    "# Bài tập 3\n",
    "\n",
    "#### Họ và tên: NGUYỄN XUÂN BÌNH\n",
    "\n",
    "#### MSSV: 1412050\n",
    "\n",
    "---"
   ]
  },
  {
   "cell_type": "markdown",
   "metadata": {},
   "source": [
    "## 1 - 3:\n",
    "#### Tìm số lượng mẫu cần thiết để xác suất lỗi theo bất đẳng thức Hoeffding gần 0.03. N = ?\n",
    "\n",
    "Theo đề bài ta có:\n",
    "- $\\epsilon = 0.05 $\n",
    "- $ 2Me^{-2\\epsilon^{2}N} = 0.03$\n",
    "###### Tìm N theo M\n",
    "- Ta có:\n",
    "\n",
    "### $ 2Me^{-2\\epsilon^{2}N} = 0.03 $\n",
    "\n",
    "### $ \\leftrightarrow e^{-2\\epsilon^{2}N} = \\frac{3}{200M} $\n",
    "\n",
    "### $ \\leftrightarrow \\ln{e^{-2\\epsilon^{2}N}} = \\ln{\\frac{3}{200M}} $\n",
    "\n",
    "### $ \\leftrightarrow -2\\epsilon^{2}N = \\ln{\\frac{3}{200M}} $\n",
    "\n",
    "### $ \\leftrightarrow N = \\frac{\\ln{\\frac{3}{200M}}}{-2\\epsilon^{2}} $\n",
    "\n",
    "Với $\\epsilon = 0.05 $:\n",
    "### $ \\leftrightarrow N = \\frac{\\ln{\\frac{3}{200M}}}{\\frac{-1}{200}} $"
   ]
  },
  {
   "cell_type": "markdown",
   "metadata": {},
   "source": [
    "## Câu 1: [b]: 1000\n",
    "#### Với M = 1\n",
    "### $ N = \\frac{\\ln{\\frac{3}{200}}}{\\frac{-1}{200}} \\approx 840 $\n",
    "###### Ta thấy kết quả gần với đáp án [b]: 1000"
   ]
  },
  {
   "cell_type": "markdown",
   "metadata": {},
   "source": [
    "## Câu 2: [c]: 1500\n",
    "#### Với M = 10\n",
    "### $ N = \\frac{\\ln{\\frac{3}{2000}}}{\\frac{-1}{200}} \\approx 1300 $\n",
    "###### Ta thấy kết quả gần với đáp án [c]: 1500"
   ]
  },
  {
   "cell_type": "markdown",
   "metadata": {},
   "source": [
    "## Câu 3: [d]: 2000\n",
    "#### Với M = 100\n",
    "### $ N = \\frac{\\ln{\\frac{3}{20000}}}{\\frac{-1}{200}} \\approx 1761 $\n",
    "###### Ta thấy kết quả gần với đáp án [d]: 2000"
   ]
  },
  {
   "cell_type": "markdown",
   "metadata": {},
   "source": [
    "## Câu 4: [b]: 5\n",
    "Giái thích:\n",
    "\n",
    "- Ta có công thức tổng quát xác định Growth Function của Percepton với d-dimension là:\n",
    "\n",
    "$$2 \\sum_{i=0}^{d} \\binom{N - 1}{i}$$\n",
    "\n",
    "\n",
    "- Theo yêu cầu của đề bài, tìm breakpoint của Percepton Model trong không gian 3D. Do đó, ta có các thông số sau:\n",
    "\n",
    "### d = 3\n",
    "\n",
    "### $$\\Rightarrow m_{H}(N) = 2 \\sum_{i=0}^{3} \\binom{N - 1}{i}$$\n",
    "\n",
    "###  $$ = 2\\left[\\binom{N - 1}{0} + \\binom{N - 1}{1} + \\binom{N - 1}{2} + \\binom{N - 1}{3}\\right] $$\n",
    "\n",
    "###  $$ = \\frac {N^{3} - 3N^{2} + 8N}{3}$$\n",
    "\n",
    "- Theo như định nghĩa về Breakpoint: $m_{H}(k) < 2^k$\n",
    "\n",
    "Ta thử lần lượt các giá trị bắt đầu từ 1 cho đến khi tìm được điểm breakpoint đầu tiên. Đây chính là điểm breakpoint nhỏ nhất.\n",
    "\n",
    "    + Với k = 1: $ m_{H}(1) = 2 = 2^{1}$.\n",
    "\n",
    "    + Với k = 2: $ m_{H}(2) = 4 = 2^{2}$.\n",
    "\n",
    "    + Với k = 3: $ m_{H}(3) = 8 = 2^{3}$.\n",
    "\n",
    "    + Với k = 4: $ m_{H}(4) = 16 = 2^{4}$.\n",
    "\n",
    "    + Với k = 5: $ m_{H}(5) = 30 < 2^{5}$. Do đó, breakpoint là k = 5\n",
    "\n",
    "###### Vậy, ta chọn đáp án [b]: 5"
   ]
  },
  {
   "cell_type": "markdown",
   "metadata": {},
   "source": [
    "## Câu 5: [b]: i, ii, v\n",
    "Giải thích:\n",
    "- i) $ m_H(N) = 1+ N$: đây là công thức của Growth Function trong trường hợp \"Positive rays\".\n",
    "\n",
    "- ii) $ m_H(N) = 1 + N + \\binom{N}{2} = \\frac{N^2}{2} + \\frac{N}{2} + 1$ : đây là công thức của Growth Function trong trường hợp \"Positive intervals\".\n",
    "\n",
    "- iii)$ m_H(N) = \\sum_{i=1}^{\\left \\lfloor \\sqrt{N} \\right \\rfloor} \\binom{N}{i}$: không tồn tại công thức Growth Function này.\n",
    "\n",
    "Vì:\n",
    "    + Giả sử N = 1, m_H(1) = 1. Điều này có nghĩa là, hypothesis của mọi điểm đều giống nhau và đều phân ra một vùng.\n",
    "Xét 2 điểm x và y, h(x) và h(y) đều chỉ phân ra một vùng. Xét vector K được tạo thành từ 2 điểm x và y: (x,y). Ta thấy rằng h(K) = 1 vì h(x) và h(y) bằng 1.\n",
    "\n",
    "    + Xét N = 2, ta thấy theo công thức đề bài thì m_H(2) = 2. Điều này dẫn đến sự vô lí với trường hợp suy ra được từ N = 1.\n",
    "\n",
    "        Do đó, không tồn tại Growth Function này.\n",
    "\n",
    "- iv) $ m_H(N) = 2^{\\left \\lfloor N/2 \\right \\rfloor} $: không tồn tại công thức Growth Function này.\n",
    "\n",
    "Các chứng minh tương tự câu iii\n",
    "\n",
    "- v) $ m_H(N) = 2^N $: đây là công thức của Growth Function trong trường hợp \"Convex sets\".\n",
    "\n",
    "##### Do đó, ta chọn đáp án [b]: i, ii, v"
   ]
  },
  {
   "cell_type": "markdown",
   "metadata": {},
   "source": [
    "## Câu 6: [c]: 5\n",
    "Giải thích:\n",
    "\n",
    "- Với k = 3. Tất cả các trường hợp đều thỏa mãn.\n",
    "\n",
    "- Với k = 4. Tất cả các trường hợp đều thỏa mãn.\n",
    "\n",
    "- Trong trường hợp k = 5.\n",
    "Ta có một h không thể phân lớp với 2-intervals:\n",
    "### |x|o|x|o|x|\n",
    "\n",
    "###### Do đó, ta chọn đáp án [c]: 5"
   ]
  },
  {
   "cell_type": "markdown",
   "metadata": {},
   "source": [
    "## Câu 7: [c]: $\\binom{N + 1}{4} + \\binom{N + 1}{2} + 1$\n",
    "Giải thích:\n",
    "\n",
    "- Đường thẳng được chia bởi N points, tạo thành N + 1 khu vực:\n",
    "    + Sự phân chia được xác định bởi 2-intervals, tức 4 khu vực khác nhau chứa các điểm của đoạn thẳng, kết quả cho ra $\\binom{N + 1}{4}$ sự phân chia khác nhau. (1)\n",
    "    + Sự phân chia được xác định bởi 2-intervals, nhưng cả 2 đầu của cả 2 đoạn thẳng đều trùng trên cùng một khu vực, dường như trở về trường một đoạn thẳng duy nhất, tức 2 khu vực khác nhau trên đường thẳng, kết quả cho ra $\\binom{N + 1}{2}$ sự phân chia khác nhau. (2)\n",
    "    + Cả 4 điểm đều nằm trên cùng một khu vực. Lúc này chỉ có một hằng số duy nhất -1 trên cả đường thẳng. Do đó ta cộng thêm 1 vào Growth Function. (3)\n",
    "   \n",
    "- Từ (1),(2),(3), ta có: $m_H(N) = \\binom{N + 1}{4} + \\binom{N + 1}{2} + 1$\n",
    "\n",
    "###### Do đó, ta chọn đáp án [c]: $\\binom{N + 1}{4} + \\binom{N + 1}{2} + 1$"
   ]
  },
  {
   "cell_type": "markdown",
   "metadata": {},
   "source": [
    "## Câu 8:  [d]: 2M + 1\n",
    "Giải thích: M-intervals\n",
    "\n",
    "Ta có: k = xM + y\n",
    "\n",
    "- Với M = 1: breakpoint k = 3\n",
    "nên 3 = x + y (1)\n",
    "\n",
    "- Với M = 2: breakpoint k = 5\n",
    "nên 5 = 2x + y (2)\n",
    "\n",
    "Từ (1),(2) ta có hệ phương trình:\n",
    "\n",
    "$\\left\\{\\begin{matrix}3 = x + y \\\\\n",
    "5 = 2x + y\n",
    "\\end{matrix}\\right.$\n",
    "\n",
    "$\\Leftrightarrow \\left\\{\\begin{matrix}\n",
    "x = 2\\\\ \n",
    "y = 1\n",
    "\\end{matrix}\\right.$\n",
    "\n",
    "Vì không mất tính tổng quát cho mọi trường hợp M-intervals nên ta có được công thức tính breakpoint cho M-intervals là:\n",
    "\n",
    "$$ k = 2M + 1$$\n",
    "\n",
    "###### Do đó, ta chọn đáp án [d]: 2M + 1"
   ]
  },
  {
   "cell_type": "markdown",
   "metadata": {},
   "source": [
    "## Câu 9:  [d]: 7\n",
    "Giải thích:\n",
    "\n",
    "- The \"Triangle\" learning model, ta coi như là tập hợp của 3 Percepton đơn 2 chiều. Do đó, ta suy biến về Percepton trên không gian 6 chiều.\n",
    "\n",
    "$$2 \\sum_{i=0}^{d} \\binom{N - 1}{i}$$\n",
    "\n",
    "- Ta sẽ đi tìm breakpoint k:\n",
    "    - Với k = 1: $m_H(1) = 2 = 2^{1}$\n",
    "    \n",
    "    - Với k = 2: $m_H(2) = 4 = 2^{2}$\n",
    "    \n",
    "    - Với k = 3: $m_H(3) = 8 = 2^{3}$\n",
    "    \n",
    "    - Với k = 4: $m_H(4) = 16 = 2^{4}$\n",
    "    \n",
    "    - Với k = 5: $m_H(5) = 32 = 2^{5}$\n",
    "    \n",
    "    - Với k = 6: $m_H(6) = 64 = 2^{6}$\n",
    "    \n",
    "    - Với k = 7: $m_H(7) = 128 = 2^{7}$\n",
    "    \n",
    "    - Với k = 8: $m_H(8) = 254 < 2^{8}$. Nên đây là breakpoint.\n",
    "\n",
    "Từ đó ta tìm được giá trị $d_{VC} = k - 1 = 8 - 1 = 7$\n",
    "\n",
    "###### Do đó, ta chọn đáp án [d]: 7"
   ]
  },
  {
   "cell_type": "markdown",
   "metadata": {},
   "source": [
    "## Câu 10:  [b]: $\\binom{N + 1}{2} + 1$\n",
    "\n",
    "Giải thích:\n",
    "\n",
    "$a^2 \\leq x_1^2 + x_2^2 \\leq b^2 $ là tập hợp các điểm nằm trong vành khuyên được giới hạn bởi 2 đường tròn đồng tâm với 2 bán kính a và b (a < b)\n",
    "\n",
    "Nếu ta xem xét đến giá trị $ r = \\sqrt{x_1^2 + x_2^2}$ là bán kính của tập hợp các đường tròn nằm bên trong 2 đường tròn bán kính a và b. Đến đây, ta có thể chuyển đổi về dạng \"1-interval\" với đoạn thẳng có 2 đầu mút a và b, điểm r nằm trong đoạn thẳng sẽ mang giá trị +1. Nghĩa là chúng ta chuyển $\\mathbb{R}^2$ về $\\mathbb{R}$.\n",
    "\n",
    "Như vậy, m_H{N} trong trường hợp này tương ứng với trường hợp \"1-interval\":\n",
    "\n",
    "$m_H{N} = \\binom{N+1}{2} + 1$\n",
    "\n",
    "###### Do đó, ta chọn đáp án [b]: $\\binom{N + 1}{2} + 1$"
   ]
  },
  {
   "cell_type": "code",
   "execution_count": null,
   "metadata": {
    "collapsed": true
   },
   "outputs": [],
   "source": []
  }
 ],
 "metadata": {
  "anaconda-cloud": {},
  "kernelspec": {
   "display_name": "Python [Root]",
   "language": "python",
   "name": "Python [Root]"
  },
  "language_info": {
   "codemirror_mode": {
    "name": "ipython",
    "version": 2
   },
   "file_extension": ".py",
   "mimetype": "text/x-python",
   "name": "python",
   "nbconvert_exporter": "python",
   "pygments_lexer": "ipython2",
   "version": "2.7.12"
  },
  "nbpresent": {
   "slides": {},
   "themes": {
    "default": "08feaae5-a723-446d-891c-8edee574b8fb",
    "theme": {}
   }
  }
 },
 "nbformat": 4,
 "nbformat_minor": 0
}
