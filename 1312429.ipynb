{
 "cells": [
  {
   "cell_type": "markdown",
   "metadata": {},
   "source": [
    "# Homework 3\n",
    "###1312429 - Nguyen Hai Phong"
   ]
  },
  {
   "cell_type": "markdown",
   "metadata": {},
   "source": [
    "##•Generalization Error"
   ]
  },
  {
   "cell_type": "markdown",
   "metadata": {},
   "source": [
    "$$P[|Ein(g)−Eout(g)| >\\epsilon   ] ≤  2Me^{−2\\epsilon^2N} $$"
   ]
  },
  {
   "cell_type": "markdown",
   "metadata": {
    "collapsed": true
   },
   "source": [
    "-As we can know: \n",
    "\n",
    "$$N \\ge \\frac{ln({\\frac{0.03}{2M}})}{-2\\epsilon^2}$$\n"
   ]
  },
  {
   "cell_type": "markdown",
   "metadata": {},
   "source": [
    "###Q1\n",
    "-If M=1, $\\epsilon$ = 0.05 \n",
    "=> $N \\ge 840$\n",
    "\n",
    "**Pick B:1000**"
   ]
  },
  {
   "cell_type": "markdown",
   "metadata": {
    "collapsed": true
   },
   "source": [
    "###Q2\n",
    "-If M=10 & the same $\\epsilon$ = 0.05 \n",
    "=> $N \\ge 1300$\n",
    "\n",
    "**Pick C:1500**"
   ]
  },
  {
   "cell_type": "markdown",
   "metadata": {
    "collapsed": false
   },
   "source": [
    "###Q3\n",
    "-If M=10 & the same $\\epsilon$ = 0.05 \n",
    "=> $N \\ge 1761$\n",
    "\n",
    "**Pick D:2000**\n"
   ]
  },
  {
   "cell_type": "markdown",
   "metadata": {},
   "source": [
    "##•Break Point "
   ]
  },
  {
   "cell_type": "markdown",
   "metadata": {},
   "source": [
    "###Q4\n",
    "-Break point in Perceptron 2D is 4 point.\n",
    "\n",
    "-In Perceptron Model 3D ($R^3$) is 5 point\n",
    "\n",
    "For example: we have this situation that  can not shatter 5 point:\n",
    "\n",
    "x1:(0,0,0), x2:(1,0,0), x3(0,1,0), x4(0,0,1), x5(0,0,-1)\n",
    "\n",
    "-When labeled x1,x2,x3 **(+)** & x4,x5 labeled **(-)** , that can not shatter\n",
    "\n",
    "**Pick B:5**"
   ]
  },
  {
   "cell_type": "markdown",
   "metadata": {
    "collapsed": false
   },
   "source": [
    "##•Growth Function "
   ]
  },
  {
   "cell_type": "markdown",
   "metadata": {},
   "source": [
    "###Q5\n",
    "-As we know in class,the following are possible formulas for a growth function mH(N) we have learning in i,ii,iii,iv,v is:\n",
    "\n",
    ". $mH(N)= 1+N$ : 1D positive ray\n",
    "\n",
    ". $mH(N)= 1+N+(C_N^2)$ : 1D positive interval\n",
    "\n",
    ". $mH(N)= 2^N$ : convex set\n",
    "\n",
    "**Pick B: i,ii,v** "
   ]
  },
  {
   "cell_type": "markdown",
   "metadata": {
    "collapsed": true
   },
   "source": [
    "##•Fun with Intervals"
   ]
  },
  {
   "cell_type": "markdown",
   "metadata": {},
   "source": [
    "###Q6\n",
    "- 2-Intervals learning models: $   -   |   +   |   -   |   +   |   -   $\n",
    "- When N=1,2,3,4 , $mH(N)=2^N$\n",
    "- When N=5, there is one case that can not shatter in 2-intervals models:\n",
    "\n",
    "    **   x1(+)   <   x2(-)   <   x3(+)   <   x4(-)   <   x5(+)   **\n",
    "    \n",
    "=> 5 is the smallest break point of '2-Intervals'\n",
    "\n",
    "**Pick C:5**"
   ]
  },
  {
   "cell_type": "markdown",
   "metadata": {
    "collapsed": true
   },
   "source": [
    "###Q7\n",
    "- As we can know k=5 \n",
    "- Growth funtions of 2-intervals learning models:\n",
    "$$mH(N)=\\sum_{i=0}^4{C_N^i}=C_N^4+C_N^3+C_N^2+C_N^1+C_N^0=C_{N+1}^4+C_{N+1}^2+1$$\n",
    "**Pick C:**$C_{N+1}^4+C_{N+1}^2+1$"
   ]
  },
  {
   "cell_type": "markdown",
   "metadata": {},
   "source": [
    "###Q8:\n",
    "- In the general case: the “M-intervals” learning model will have M+1 zone **(-)** and M zone **(+)**\n",
    "- We can shatter until : first point label **(+)** & constantly changing sign\n",
    "\n",
    "So that easy to know that the smalest break point when: \n",
    "$$k=num-of-zone=(M+1)zone(-) + M zone(+)=2M+1$$\n",
    "**Pick D:2M+1**"
   ]
  },
  {
   "cell_type": "markdown",
   "metadata": {
    "collapsed": false
   },
   "source": [
    "##•Convex Sets: The Triangle"
   ]
  },
  {
   "cell_type": "markdown",
   "metadata": {},
   "source": [
    "###Q9\n",
    "- When N=8, we pick this case : 8 point on a circle & not the same sign when close together, that we can not shatter.\n",
    "So 7 is the largest point in R2 that can be shattered by this hypothesis set\n",
    "**Pick D:&**\n",
    "//Im just think so, not sure :D "
   ]
  },
  {
   "cell_type": "markdown",
   "metadata": {},
   "source": [
    "##•Non-Convex Sets: Concentric Circles"
   ]
  },
  {
   "cell_type": "markdown",
   "metadata": {},
   "source": [
    "##Q10\n",
    "- First, we can easy to know that if n=1,2, we can shatter \n",
    "- With N=3, we pick this case:\n",
    "\n",
    "$a^2\\le x1^2+y1^2\\le b^2$ **labeled (-)**\n",
    "\n",
    "$x2^2+y2^2\\le a^2$ **labeled (+)**\n",
    "\n",
    "$x3^2+y3^2\\ge b^2$ **labeled (+)**\n",
    "- That we can not shatter => break point of this learning models **k=3**\n",
    "- Growth funtions of this learning models:\n",
    "$$mH(N)=\\sum_{i=0}^2{C_N^i}=C_N^2+C_N^1+C_N^0=C_{N+1}^2+1$$\n",
    "**Pick B:**$C_{N+1}^2+1$"
   ]
  },
  {
   "cell_type": "markdown",
   "metadata": {},
   "source": []
  },
  {
   "cell_type": "code",
   "execution_count": null,
   "metadata": {
    "collapsed": true
   },
   "outputs": [],
   "source": []
  }
 ],
 "metadata": {
  "kernelspec": {
   "display_name": "Python 2",
   "language": "python",
   "name": "python2"
  },
  "language_info": {
   "codemirror_mode": {
    "name": "ipython",
    "version": 2
   },
   "file_extension": ".py",
   "mimetype": "text/x-python",
   "name": "python",
   "nbconvert_exporter": "python",
   "pygments_lexer": "ipython2",
   "version": "2.7.10"
  }
 },
 "nbformat": 4,
 "nbformat_minor": 0
}
